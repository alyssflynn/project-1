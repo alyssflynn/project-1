{
 "cells": [
  {
   "cell_type": "code",
   "execution_count": 36,
   "metadata": {},
   "outputs": [],
   "source": [
    "# Dependencies\n",
    "import matplotlib.pyplot as plt\n",
    "import pandas as pd\n",
    "import numpy as np\n",
    "import json\n",
    "import requests\n",
    "from pprint import pprint\n",
    "from config import breezometer_api_key"
   ]
  },
  {
   "cell_type": "code",
   "execution_count": 54,
   "metadata": {},
   "outputs": [
    {
     "name": "stdout",
     "output_type": "stream",
     "text": [
      "https://aqs.epa.gov/api/rawData?user=alyss.flynn@me.com&pw=ecrubird47&format=DMCSV&param=88501&bdate=20110501&edate=20110505&state=37&county=063\n"
     ]
    }
   ],
   "source": [
    "latitude = \"\"\n",
    "longitude = \"\"\n",
    "usr = 'alyss.flynn@me.com'\n",
    "pw = 'ecrubird47'\n",
    "begin_date = '20110501'\n",
    "end_date = '20110505'\n",
    "states = [\"{:02d}\".format(i) for i in range(1,57)]\n",
    "state = '37'\n",
    "county = '063'\n",
    "# url = f\"https://api.breezometer.com/baqi/?lat={latitude}&lon={longitude}&key={breezometer_api_key}\"\n",
    "url = f\"https://aqs.epa.gov/api/rawData?user={usr}&pw={pw}&format=DMCSV&param=88501&bdate={begin_date}&edate={end_date}&state={state}&county={county}\"\n",
    "\n",
    "response = requests.get(url)\n",
    "print(response.url)"
   ]
  },
  {
   "cell_type": "code",
   "execution_count": null,
   "metadata": {},
   "outputs": [],
   "source": []
  }
 ],
 "metadata": {
  "kernelspec": {
   "display_name": "Python [conda env:PythonData]",
   "language": "python",
   "name": "conda-env-PythonData-py"
  },
  "language_info": {
   "codemirror_mode": {
    "name": "ipython",
    "version": 3
   },
   "file_extension": ".py",
   "mimetype": "text/x-python",
   "name": "python",
   "nbconvert_exporter": "python",
   "pygments_lexer": "ipython3",
   "version": "3.6.4"
  }
 },
 "nbformat": 4,
 "nbformat_minor": 2
}
