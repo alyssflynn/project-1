{
 "cells": [
  {
   "cell_type": "markdown",
   "metadata": {},
   "source": [
    "## Import EPA AQI Data\n",
    "Quick script to download/unzip annual AQI summary data csv files for each year between 1980 to 2018 from https://aqs.epa.gov/aqsweb/airdata/download_files.html."
   ]
  },
  {
   "cell_type": "code",
   "execution_count": 24,
   "metadata": {},
   "outputs": [],
   "source": [
    "import requests, zipfile, io"
   ]
  },
  {
   "cell_type": "code",
   "execution_count": 23,
   "metadata": {},
   "outputs": [
    {
     "name": "stdout",
     "output_type": "stream",
     "text": [
      "Done.\n"
     ]
    }
   ],
   "source": [
    "# Remove item from scope or change year range to include/exclude files\n",
    "params = {'scope':['cbsa', 'county'],\n",
    "          'year':range(1980, 2018)}\n",
    "\n",
    "for scope in params['scope']:\n",
    "    for yr in params['year']:\n",
    "        url = 'https://aqs.epa.gov/aqsweb/airdata/annual_aqi_by_{a}_{b}.zip'.format(a=scope, b=yr)\n",
    "        r = requests.get(url)\n",
    "\n",
    "        filename = url.split('/')[-1][:-4]\n",
    "\n",
    "        z = zipfile.ZipFile(io.BytesIO(r.content))\n",
    "        z.extractall(\"raw_data\")\n",
    "\n",
    "print('Done.')"
   ]
  },
  {
   "cell_type": "code",
   "execution_count": null,
   "metadata": {},
   "outputs": [],
   "source": []
  }
 ],
 "metadata": {
  "kernelspec": {
   "display_name": "Python [conda env:PythonData]",
   "language": "python",
   "name": "conda-env-PythonData-py"
  },
  "language_info": {
   "codemirror_mode": {
    "name": "ipython",
    "version": 3
   },
   "file_extension": ".py",
   "mimetype": "text/x-python",
   "name": "python",
   "nbconvert_exporter": "python",
   "pygments_lexer": "ipython3",
   "version": "3.6.4"
  }
 },
 "nbformat": 4,
 "nbformat_minor": 2
}
